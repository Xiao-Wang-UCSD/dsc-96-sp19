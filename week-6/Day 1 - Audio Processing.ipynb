{
 "cells": [
  {
   "cell_type": "markdown",
   "metadata": {},
   "source": [
    "# Audio Processing\n",
    "\n",
    "Colin Jemmott for UC San Diego, September 2018\n",
    "\n",
    "Today we will learn:\n",
    "\n",
    "* How to make sounds with code\n",
    "* How to manipulate those sounds with math\n",
    "* How to play a short song!"
   ]
  },
  {
   "cell_type": "markdown",
   "metadata": {},
   "source": [
    "# Make a sound file with a sine wave"
   ]
  },
  {
   "cell_type": "code",
   "execution_count": null,
   "metadata": {},
   "outputs": [],
   "source": [
    "import numpy as np"
   ]
  },
  {
   "cell_type": "code",
   "execution_count": null,
   "metadata": {},
   "outputs": [],
   "source": [
    "samplingRate = 44100 # This is the number of samples (records) per second (Hz)\n",
    "f = 440 # frequency of sine wave in Hz\n",
    "t_max = 2 # seconds of recording length\n",
    "\n",
    "N_max = int(t_max * samplingRate) # Total number of samples\n",
    "\n",
    "print(N_max)"
   ]
  },
  {
   "cell_type": "code",
   "execution_count": null,
   "metadata": {},
   "outputs": [],
   "source": [
    "# Now we make a record of length N_max that records the number of seconds \n",
    "t = np.divide(list(range(N_max)) , samplingRate) # time of each sample\n",
    "print(t[:10])"
   ]
  },
  {
   "cell_type": "markdown",
   "metadata": {},
   "source": [
    "Our sine wave is \n",
    "\n",
    "$\\sin\\left(2\\pi ft\\right)$\n",
    "\n",
    "where\n",
    "\n",
    "* $f$ is our frequency, and\n",
    "* $t$ is the list of times, in seconds"
   ]
  },
  {
   "cell_type": "code",
   "execution_count": null,
   "metadata": {},
   "outputs": [],
   "source": [
    "# Make a sine wave\n",
    "wave = np.sin(np.multiply(t, 2*np.pi*f))\n",
    "print(wave[:30])"
   ]
  },
  {
   "cell_type": "code",
   "execution_count": null,
   "metadata": {},
   "outputs": [],
   "source": [
    "len(wave)"
   ]
  },
  {
   "cell_type": "markdown",
   "metadata": {},
   "source": [
    "Great, now make that into a `.wav` file."
   ]
  },
  {
   "cell_type": "code",
   "execution_count": null,
   "metadata": {},
   "outputs": [],
   "source": [
    "from scipy.io.wavfile import write\n",
    "\n",
    "# we need to scale the sine wave so that it fits the wav standard\n",
    "scaled = wave/np.max(np.abs(wave)) * 32767\n",
    "write('440.wav', samplingRate, np.int16(scaled)) # recast as 16 bit integer and save"
   ]
  },
  {
   "cell_type": "markdown",
   "metadata": {},
   "source": [
    "You can find the file in the Jupyter file navigation.  You can download the file and listen to it.  Neat!\n",
    "\n",
    "It is also possible to play the sound right in Jupyter:"
   ]
  },
  {
   "cell_type": "code",
   "execution_count": null,
   "metadata": {},
   "outputs": [],
   "source": [
    "from IPython import display\n",
    "display.Audio(scaled, rate = samplingRate)"
   ]
  },
  {
   "cell_type": "markdown",
   "metadata": {},
   "source": [
    "# Amplitude\n",
    "\n",
    "### Constant\n",
    "\n",
    "What happens if you make the tone one tenth as large for every sample?  So our new sine wave would be\n",
    "\n",
    "$\\frac{1}{10} \\sin\\left(2\\pi ft\\right)$"
   ]
  },
  {
   "cell_type": "code",
   "execution_count": null,
   "metadata": {},
   "outputs": [],
   "source": [
    "# your code here"
   ]
  },
  {
   "cell_type": "markdown",
   "metadata": {},
   "source": [
    "How did that sound different?\n",
    "\n",
    "### Ramp\n",
    "\n",
    "Next, what if you multiply it by a linear ramp, starting at 0 and ending at 1?\n",
    "\n",
    "$A(t) \\sin\\left(2\\pi ft\\right)$\n",
    "\n",
    "where the amplitude linearly changes from\n",
    "\n",
    "$A(0) = 0$\n",
    "\n",
    "to \n",
    "\n",
    "$A(t_{max}) = 1$"
   ]
  },
  {
   "cell_type": "code",
   "execution_count": null,
   "metadata": {},
   "outputs": [],
   "source": [
    "# your code here"
   ]
  },
  {
   "cell_type": "markdown",
   "metadata": {},
   "source": [
    "# Frequency\n",
    "\n",
    "Now explore the effect of frequency. Return again to our original wave, and try some other values like `f=300` or `f=1000`."
   ]
  },
  {
   "cell_type": "code",
   "execution_count": null,
   "metadata": {},
   "outputs": [],
   "source": [
    "f = 300\n",
    "wave = np.sin(np.multiply(t, 2*np.pi*f))\n",
    "scaled = wave/np.max(np.abs(wave)) * 32767\n",
    "display.Audio(scaled, rate = samplingRate)"
   ]
  },
  {
   "cell_type": "markdown",
   "metadata": {},
   "source": [
    "# Noise\n",
    "\n",
    "Let's make a totally different signal.  Make a two second recording of random noise using\n",
    "```\n",
    "np.random.randn(N_max)\n",
    "```\n",
    "What does that sound like?\n",
    "\n",
    "*Hint*: you will need to scale the signal like we did up top."
   ]
  },
  {
   "cell_type": "code",
   "execution_count": null,
   "metadata": {},
   "outputs": [],
   "source": [
    "# Your code here"
   ]
  },
  {
   "cell_type": "markdown",
   "metadata": {},
   "source": [
    "# Adding Sounds\n",
    "\n",
    "Since our random noise and sine wave, we can add them by adding together each element of the list.  As always, listen!  Does it sound like what you expected?"
   ]
  },
  {
   "cell_type": "code",
   "execution_count": null,
   "metadata": {},
   "outputs": [],
   "source": [
    "# your code here"
   ]
  },
  {
   "cell_type": "markdown",
   "metadata": {},
   "source": [
    "# Concatenating Sounds\n",
    "\n",
    "Rather than adding each element of the noise and sine wave, instead make them into one list by concatenating them."
   ]
  },
  {
   "cell_type": "code",
   "execution_count": null,
   "metadata": {},
   "outputs": [],
   "source": [
    "# your code here"
   ]
  },
  {
   "cell_type": "markdown",
   "metadata": {},
   "source": [
    "# Play a Song!\n",
    "\n",
    "The tempo should be 60 notes per minute, so each note is one second long (except for the last, which is twice as long).  Putting a short rest (silence, which is just zeros) between notes is important!\n",
    "\n",
    "*Hint*: make each sine wave, and concatenate them."
   ]
  },
  {
   "cell_type": "code",
   "execution_count": null,
   "metadata": {},
   "outputs": [],
   "source": [
    "e = 329 # Hz\n",
    "d = 293 # Hz\n",
    "c = 261 # Hz\n",
    "\n",
    "notes = [e, d, c, d, e, e, e]\n",
    "length = [1, 1, 1, 1, 1, 1, 2]"
   ]
  },
  {
   "cell_type": "code",
   "execution_count": null,
   "metadata": {},
   "outputs": [],
   "source": [
    "# Your code here"
   ]
  },
  {
   "cell_type": "markdown",
   "metadata": {},
   "source": [
    "# Optional: play with sound\n",
    "\n",
    "What happens if you invert it?  Make a maximum and minimum threshold?  Remove all the small numbers?  Audio signal processing is a big world!"
   ]
  }
 ],
 "metadata": {
  "kernelspec": {
   "display_name": "Python 3",
   "language": "python",
   "name": "python3"
  },
  "language_info": {
   "codemirror_mode": {
    "name": "ipython",
    "version": 3
   },
   "file_extension": ".py",
   "mimetype": "text/x-python",
   "name": "python",
   "nbconvert_exporter": "python",
   "pygments_lexer": "ipython3",
   "version": "3.6.6"
  }
 },
 "nbformat": 4,
 "nbformat_minor": 2
}
